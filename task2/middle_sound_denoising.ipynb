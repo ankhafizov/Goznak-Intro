{
 "cells": [
  {
   "cell_type": "code",
   "execution_count": 1,
   "metadata": {},
   "outputs": [],
   "source": [
    "import random\n",
    "from glob import glob\n",
    "from pathlib import Path\n",
    "\n",
    "import matplotlib.pyplot as plt\n",
    "import numpy as np\n",
    "from scipy.ndimage import median_filter\n",
    "\n",
    "import tensorflow as tf\n",
    "\n",
    "from CNNModels import SoundDenoisingModel\n",
    "from utils.data_generators import DenoisingDataGenerator\n",
    "from utils.utils import reconstruct_audio_from_mel, load_mel, show_mel_spectra"
   ]
  },
  {
   "cell_type": "code",
   "execution_count": 2,
   "metadata": {},
   "outputs": [],
   "source": [
    "assert tf.test.is_built_with_cuda(), \"Установлена CPU версия tensorflow\"\n",
    "assert tf.config.list_physical_devices('GPU'), \"Не обнаружено GPU на устройстве\""
   ]
  },
  {
   "cell_type": "markdown",
   "metadata": {},
   "source": [
    "# Описание решения\n",
    "\n",
    "Изначально, предполагалось решать задачу с помощью автоэнкодеров для изображений https://www.tensorflow.org/tutorials/generative/autoencoder. Несмотря на то, что во время тренировки значения MSE-loss уменьшались, качество данных при инференсе модели было неудовлетворительным.\n",
    "Затем было выбрано решение описанное в статье https://arxiv.org/abs/1609.07132, которое и реализовано в данном ноутбуке. Архитектура нейросети отличается тем, что изображение mel-спектрограммы рассматривается как временной ряд: зашумленная спектрограмма разбивается на сегменты по 8 соседних Фурье-векторов (k-8, k-7, ..., k), которые подаются на вход нейросети и сопоставляется с вектором k незашумленной спектрограммы при обучении и, тем самым, реализуется авторегрессивный подход many-to-one. При обучении каждая спектрограмма разбивается на окна по 8 векторов без перекрытий для уменьшения нагрузки на вычислительные ресурсы. При инференсе, окно разбивки - скользящее от начального до конечного значения по оси времени с единичным шагом. \n",
    "\n",
    "Выбранная нейросеть легковесная и имеет skip-connection-ы, которые делают ее обучение устойчивым даже на малых выборках данных. Для оптимизации обучения, оно производилось лишь на 1-ой части train-данных (train.part1).\n",
    "\n",
    "При обучении достигалась точность по mse до 0.236 на валидационной выборке, однако при инференсе модели иногда, на реконструированных аудио заметен \"свист\", хотя исчезла основная часть шумов. Для устранения шума предлагается делать медианную фильтрацию спектрограммы вдоль временной оси с окном (3, 1). Таким образом можно снизить присутствие \"свиста\", хотя при этом может произойти незначительное зашумление звука. \n",
    "\n",
    "Обучение производилось на видеокарте ноутбука nvidia 1650Ti с 4 гб оперативной памяти. Версия Tensorflow - 2.9.1."
   ]
  },
  {
   "cell_type": "markdown",
   "metadata": {},
   "source": [
    "# Конфигурирование"
   ]
  },
  {
   "cell_type": "markdown",
   "metadata": {},
   "source": [
    "рекомендуемая структура тренировочных данных\n",
    "\n",
    "```new_folder/\n",
    "├─ train.part1/\n",
    "│  ├─ clean/\n",
    "│  │  ├─ 20/\n",
    "│  │  ├─ 25/\n",
    "│  ├─ noisy/\n",
    "│  │  ├─ 20/\n",
    "│  │  ├─ 25/\n",
    "├─ val/\n",
    "│  ├─ clean/\n",
    "│  ├─ noisy/"
   ]
  },
  {
   "cell_type": "code",
   "execution_count": 3,
   "metadata": {},
   "outputs": [],
   "source": [
    "trained_model_filepath = \"pretrained_models/denoising\"\n",
    "\n",
    "configs = {\n",
    "    \"image_classes\" : (\"clean\", \"noisy\"), # классы для классификации\n",
    "\n",
    "    \"training_params\" : {\n",
    "        \"numSegments\" : 8, # количество фурье-веторов для авторегрессии (numSegments в статье)\n",
    "        \"numFeatures\" : 80, # ширина sft-окна (она же размерность фурье-веторов)\n",
    "        \"batch_size\" : 3,\n",
    "        \"epochs\" : 5,\n",
    "        \"learning_rate\":{ # параметры экспоненциального динамического уменьшения learning_rate\n",
    "            \"base_learning_rate\" : 3e-4,\n",
    "            \"exponential_decay_steps\" : 10_000,\n",
    "            \"decay_rate\" : 0.9,\n",
    "        },\n",
    "\n",
    "        \"metrics\" : [tf.keras.metrics.RootMeanSquaredError('mse')],\n",
    "        \"shuffle\" : True\n",
    "    },\n",
    "\n",
    "    \"data_folders\" : {\n",
    "        \"train\" : [\"data/train.part1\"], # путь до папки с clean/noisy тренировочными данными\n",
    "        \"val\" : [\"data/val\"] # путь до папки с clean/noisy валидационными данными\n",
    "    }\n",
    "}"
   ]
  },
  {
   "cell_type": "markdown",
   "metadata": {},
   "source": [
    "# Загрузка данных"
   ]
  },
  {
   "cell_type": "code",
   "execution_count": 4,
   "metadata": {},
   "outputs": [],
   "source": [
    "training_params = configs[\"training_params\"]\n",
    "\n",
    "batch_size = training_params[\"batch_size\"]\n",
    "numSegments = training_params[\"numSegments\"]\n",
    "image_classes = configs[\"image_classes\"]\n",
    "shuffle = training_params[\"shuffle\"]\n",
    "\n",
    "traingen = DenoisingDataGenerator(data_folders=configs[\"data_folders\"][\"train\"],\n",
    "                                  batch_size=batch_size,\n",
    "                                  numSegments=numSegments,\n",
    "                                  shuffle=shuffle)\n",
    "valgen = DenoisingDataGenerator(data_folders=configs[\"data_folders\"][\"train\"],\n",
    "                                batch_size=batch_size,\n",
    "                                numSegments=numSegments,\n",
    "                                shuffle=shuffle)"
   ]
  },
  {
   "cell_type": "markdown",
   "metadata": {},
   "source": [
    "# Тренировка"
   ]
  },
  {
   "cell_type": "code",
   "execution_count": 5,
   "metadata": {},
   "outputs": [],
   "source": [
    "model = SoundDenoisingModel(l2_strength=0,\n",
    "                            numFeatures=80,\n",
    "                            numSegments=8)\n",
    "\n",
    "lr_schedule = tf.keras.optimizers.schedules.ExponentialDecay(\n",
    "    initial_learning_rate=training_params[\"learning_rate\"][\"base_learning_rate\"],\n",
    "    decay_steps=training_params[\"learning_rate\"][\"exponential_decay_steps\"],\n",
    "    decay_rate=training_params[\"learning_rate\"][\"decay_rate\"])\n",
    "\n",
    "model.compile(optimizer=tf.keras.optimizers.Adam(learning_rate=lr_schedule),\n",
    "              loss='mse',\n",
    "              metrics=training_params['metrics'])\n",
    "\n",
    "mcp_save = tf.keras.callbacks.ModelCheckpoint(trained_model_filepath,\n",
    "                                              save_format=\"h5\",\n",
    "                                              save_best_only=True,\n",
    "                                              monitor='val_loss',\n",
    "                                              mode='min')"
   ]
  },
  {
   "cell_type": "code",
   "execution_count": 6,
   "metadata": {},
   "outputs": [
    {
     "name": "stdout",
     "output_type": "stream",
     "text": [
      "Epoch 1/5\n",
      "4000/4000 [==============================] - ETA: 0s - loss: 0.0994 - mse: 0.3152"
     ]
    },
    {
     "name": "stderr",
     "output_type": "stream",
     "text": [
      "WARNING:absl:Found untraced functions such as _jit_compiled_convolution_op, _jit_compiled_convolution_op, _jit_compiled_convolution_op, _jit_compiled_convolution_op, _jit_compiled_convolution_op while saving (showing 5 of 16). These functions will not be directly callable after loading.\n"
     ]
    },
    {
     "name": "stdout",
     "output_type": "stream",
     "text": [
      "INFO:tensorflow:Assets written to: pretrained_models\\denoising\\assets\n"
     ]
    },
    {
     "name": "stderr",
     "output_type": "stream",
     "text": [
      "INFO:tensorflow:Assets written to: pretrained_models\\denoising\\assets\n"
     ]
    },
    {
     "name": "stdout",
     "output_type": "stream",
     "text": [
      "4000/4000 [==============================] - 3776s 944ms/step - loss: 0.0994 - mse: 0.3152 - val_loss: 0.0687 - val_mse: 0.2621\n",
      "Epoch 2/5\n",
      "4000/4000 [==============================] - ETA: 0s - loss: 0.0726 - mse: 0.2695"
     ]
    },
    {
     "name": "stderr",
     "output_type": "stream",
     "text": [
      "WARNING:absl:Found untraced functions such as _jit_compiled_convolution_op, _jit_compiled_convolution_op, _jit_compiled_convolution_op, _jit_compiled_convolution_op, _jit_compiled_convolution_op while saving (showing 5 of 16). These functions will not be directly callable after loading.\n"
     ]
    },
    {
     "name": "stdout",
     "output_type": "stream",
     "text": [
      "INFO:tensorflow:Assets written to: pretrained_models\\denoising\\assets\n"
     ]
    },
    {
     "name": "stderr",
     "output_type": "stream",
     "text": [
      "INFO:tensorflow:Assets written to: pretrained_models\\denoising\\assets\n"
     ]
    },
    {
     "name": "stdout",
     "output_type": "stream",
     "text": [
      "4000/4000 [==============================] - 3612s 903ms/step - loss: 0.0726 - mse: 0.2695 - val_loss: 0.0613 - val_mse: 0.2475\n",
      "Epoch 3/5\n",
      "4000/4000 [==============================] - ETA: 0s - loss: 0.0684 - mse: 0.2616"
     ]
    },
    {
     "name": "stderr",
     "output_type": "stream",
     "text": [
      "WARNING:absl:Found untraced functions such as _jit_compiled_convolution_op, _jit_compiled_convolution_op, _jit_compiled_convolution_op, _jit_compiled_convolution_op, _jit_compiled_convolution_op while saving (showing 5 of 16). These functions will not be directly callable after loading.\n"
     ]
    },
    {
     "name": "stdout",
     "output_type": "stream",
     "text": [
      "INFO:tensorflow:Assets written to: pretrained_models\\denoising\\assets\n"
     ]
    },
    {
     "name": "stderr",
     "output_type": "stream",
     "text": [
      "INFO:tensorflow:Assets written to: pretrained_models\\denoising\\assets\n"
     ]
    },
    {
     "name": "stdout",
     "output_type": "stream",
     "text": [
      "4000/4000 [==============================] - 3572s 893ms/step - loss: 0.0684 - mse: 0.2616 - val_loss: 0.0592 - val_mse: 0.2433\n",
      "Epoch 4/5\n",
      "4000/4000 [==============================] - ETA: 0s - loss: 0.0660 - mse: 0.2569"
     ]
    },
    {
     "name": "stderr",
     "output_type": "stream",
     "text": [
      "WARNING:absl:Found untraced functions such as _jit_compiled_convolution_op, _jit_compiled_convolution_op, _jit_compiled_convolution_op, _jit_compiled_convolution_op, _jit_compiled_convolution_op while saving (showing 5 of 16). These functions will not be directly callable after loading.\n"
     ]
    },
    {
     "name": "stdout",
     "output_type": "stream",
     "text": [
      "INFO:tensorflow:Assets written to: pretrained_models\\denoising\\assets\n"
     ]
    },
    {
     "name": "stderr",
     "output_type": "stream",
     "text": [
      "INFO:tensorflow:Assets written to: pretrained_models\\denoising\\assets\n"
     ]
    },
    {
     "name": "stdout",
     "output_type": "stream",
     "text": [
      "4000/4000 [==============================] - 3633s 908ms/step - loss: 0.0660 - mse: 0.2569 - val_loss: 0.0557 - val_mse: 0.2360\n",
      "Epoch 5/5\n",
      "4000/4000 [==============================] - 3602s 901ms/step - loss: 0.0644 - mse: 0.2538 - val_loss: 0.0596 - val_mse: 0.2442\n"
     ]
    }
   ],
   "source": [
    "history = model.fit(traingen,\n",
    "                    validation_data=valgen,\n",
    "                    callbacks=[mcp_save],\n",
    "                    epochs=training_params[\"epochs\"])"
   ]
  },
  {
   "cell_type": "markdown",
   "metadata": {},
   "source": [
    "# Статистика по тренировке"
   ]
  },
  {
   "cell_type": "code",
   "execution_count": 7,
   "metadata": {},
   "outputs": [
    {
     "data": {
      "image/png": "[encoded data removed]",
      "text/plain": [
       "<Figure size 900x400 with 2 Axes>"
      ]
     },
     "metadata": {},
     "output_type": "display_data"
    }
   ],
   "source": [
    "acc = history.history['mse']\n",
    "val_acc = history.history['val_mse']\n",
    "\n",
    "loss = history.history['loss']\n",
    "val_loss = history.history['val_loss']\n",
    "\n",
    "epochs_range = range(training_params[\"epochs\"])\n",
    "\n",
    "plt.figure(figsize=(9, 4))\n",
    "plt.subplot(1, 2, 1)\n",
    "plt.plot(epochs_range, acc, label='Training mse')\n",
    "plt.plot(epochs_range, val_acc, label='Validation mse')\n",
    "plt.legend(loc='lower right')\n",
    "plt.xlabel(\"epochs\")\n",
    "plt.ylabel(\"mse\")\n",
    "plt.title('Training and Validation mse')\n",
    "\n",
    "plt.subplot(1, 2, 2)\n",
    "plt.plot(epochs_range, loss, label='Training Loss')\n",
    "plt.plot(epochs_range, val_loss, label='Validation Loss')\n",
    "plt.legend(loc='upper right')\n",
    "plt.xlabel(\"epochs\")\n",
    "plt.ylabel(\"mse\")\n",
    "plt.title('Training and Validation Loss')\n",
    "plt.show()"
   ]
  },
  {
   "cell_type": "markdown",
   "metadata": {},
   "source": [
    "графики свидетельствуют о том, что у нас нет перееобучения."
   ]
  },
  {
   "cell_type": "markdown",
   "metadata": {},
   "source": [
    "# Инференс на файле"
   ]
  },
  {
   "cell_type": "code",
   "execution_count": 8,
   "metadata": {},
   "outputs": [
    {
     "data": {
      "text/plain": [
       "<tensorflow.python.training.tracking.util.CheckpointLoadStatus at 0x1753c9a1e80>"
      ]
     },
     "execution_count": 8,
     "metadata": {},
     "output_type": "execute_result"
    }
   ],
   "source": [
    "model.load_weights(trained_model_filepath)"
   ]
  },
  {
   "cell_type": "code",
   "execution_count": 9,
   "metadata": {},
   "outputs": [
    {
     "name": "stdout",
     "output_type": "stream",
     "text": [
      "26/26 [==============================] - 0s 3ms/step\n"
     ]
    }
   ],
   "source": [
    "filepath = r\"data\\train.part1\\noisy\\20\\20_205_20-205-0012.npy\"\n",
    "out_folder_path=\"out_sounds\"\n",
    "\n",
    "Path(out_folder_path).mkdir(parents=True, exist_ok=True)\n",
    "\n",
    "noised_mel = load_mel(filepath)\n",
    "clean_mel = load_mel(filepath.replace(\"noisy\", \"clean\"))\n",
    "unnoised_mel = model.predict_unnoised_mel_npy_file(filepath)"
   ]
  },
  {
   "cell_type": "code",
   "execution_count": 10,
   "metadata": {},
   "outputs": [],
   "source": [
    "reconstruct_audio_from_mel(noised_mel, f\"{out_folder_path}/noised.flac\")\n",
    "reconstruct_audio_from_mel(clean_mel, f\"{out_folder_path}/clean.flac\")\n",
    "reconstruct_audio_from_mel(unnoised_mel, f\"{out_folder_path}/unnoised.flac\")\n",
    "\n",
    "footprint=np.ones((3, 1))\n",
    "reconstruct_audio_from_mel(median_filter(unnoised_mel, footprint=footprint), f\"{out_folder_path}/unnoised_median.flac\")"
   ]
  },
  {
   "cell_type": "code",
   "execution_count": null,
   "metadata": {},
   "outputs": [],
   "source": []
  }
 ],
 "metadata": {
  "kernelspec": {
   "display_name": "Python 3.8.13 ('tensorflow')",
   "language": "python",
   "name": "python3"
  },
  "language_info": {
   "codemirror_mode": {
    "name": "ipython",
    "version": 3
   },
   "file_extension": ".py",
   "mimetype": "text/x-python",
   "name": "python",
   "nbconvert_exporter": "python",
   "pygments_lexer": "ipython3",
   "version": "3.8.13"
  },
  "orig_nbformat": 4,
  "vscode": {
   "interpreter": {
    "hash": "37be8c2ada5fcf1db1eeb82a2f5ebdcef3c64c503697d019115edff76835e14f"
   }
  }
 },
 "nbformat": 4,
 "nbformat_minor": 2
}
