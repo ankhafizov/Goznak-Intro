{
 "cells": [
  {
   "cell_type": "code",
   "execution_count": 10,
   "metadata": {},
   "outputs": [],
   "source": [
    "import matplotlib.pyplot as plt\n",
    "import numpy as np\n",
    "import tensorflow as tf\n",
    "import random\n",
    "from glob import glob\n",
    "\n",
    "from tensorflow.keras import layers, losses\n",
    "from tensorflow.keras.datasets import fashion_mnist\n",
    "from tensorflow.keras.models import Model\n"
   ]
  },
  {
   "cell_type": "code",
   "execution_count": 11,
   "metadata": {},
   "outputs": [
    {
     "name": "stdout",
     "output_type": "stream",
     "text": [
      "Training GPU\n"
     ]
    }
   ],
   "source": [
    "tf.test.is_built_with_cuda()\n",
    "if len(tf.config.list_physical_devices('GPU'))==0:\n",
    "    print(\"Training CPU\")\n",
    "else:\n",
    "    print(\"Training GPU\")"
   ]
  },
  {
   "cell_type": "code",
   "execution_count": 12,
   "metadata": {},
   "outputs": [],
   "source": [
    "IMG_SHAPE = (224, 224, 3)"
   ]
  },
  {
   "cell_type": "code",
   "execution_count": 31,
   "metadata": {},
   "outputs": [],
   "source": [
    "class ClassificationDataGen(tf.keras.utils.Sequence):\n",
    "    def __init__(self, data_folders : list,\n",
    "                 batch_size,\n",
    "                 input_size=IMG_SHAPE,\n",
    "                 shuffle=True):\n",
    "\n",
    "        self.batch_size = batch_size\n",
    "        self.input_size = input_size\n",
    "        self.shuffle = shuffle\n",
    "\n",
    "        self.file_paths = []\n",
    "        for data_folder in data_folders:\n",
    "            self.file_paths += list(zip(glob(f\"{data_folder}/noisy/*/*.npy\"), glob(f\"{data_folder}/clean/*/*.npy\")))\n",
    "            random.shuffle(self.file_paths)\n",
    "\n",
    "        self.n = len(self.file_paths)\n",
    "\n",
    "    def on_epoch_end(self):\n",
    "        if self.shuffle:\n",
    "            random.shuffle(self.file_paths)\n",
    "\n",
    "    def __load_image(self, path, target_size):\n",
    "        image_arr = np.expand_dims(np.load(path), axis=-1)\n",
    "        image_arr = np.dstack([image_arr for _ in range(target_size[-1])])\n",
    "        image_arr = tf.image.resize(image_arr,(target_size[0], target_size[1])).numpy()\n",
    "        return tf.keras.utils.normalize(image_arr)\n",
    "\n",
    "    def __get_data(self, file_path_batches):\n",
    "        X_batch = np.asarray([self.__load_image(pth[0], self.input_size) for pth in file_path_batches])\n",
    "        y_batch = np.asarray([self.__load_image(pth[1], self.input_size) for pth in file_path_batches])\n",
    "        return X_batch, y_batch\n",
    "\n",
    "    def __getitem__(self, index):\n",
    "        file_path_batches = self.file_paths[index * self.batch_size:(index + 1) * self.batch_size]\n",
    "        X, y = self.__get_data(file_path_batches)        \n",
    "        return X, y\n",
    "\n",
    "    def __len__(self):\n",
    "        return self.n // self.batch_size\n"
   ]
  },
  {
   "cell_type": "code",
   "execution_count": 32,
   "metadata": {},
   "outputs": [],
   "source": [
    "traingen = ClassificationDataGen(data_folders=[\"data/train.part1\"], batch_size=8)\n",
    "valgen = ClassificationDataGen(data_folders=[\"data/val\"], batch_size=8)"
   ]
  },
  {
   "cell_type": "code",
   "execution_count": 34,
   "metadata": {},
   "outputs": [],
   "source": [
    "class Denoise(Model):\n",
    "  def __init__(self):\n",
    "    super(Denoise, self).__init__()\n",
    "    self.encoder = tf.keras.Sequential([\n",
    "      layers.Input(shape=(28, 28, 1)),\n",
    "      layers.Conv2D(16, (3, 3), activation='relu', padding='same', strides=2),\n",
    "      layers.Conv2D(8, (3, 3), activation='relu', padding='same', strides=2)])\n",
    "\n",
    "    self.decoder = tf.keras.Sequential([\n",
    "      layers.Conv2DTranspose(8, kernel_size=3, strides=2, activation='relu', padding='same'),\n",
    "      layers.Conv2DTranspose(16, kernel_size=3, strides=2, activation='relu', padding='same'),\n",
    "      layers.Conv2D(1, kernel_size=(3, 3), activation='sigmoid', padding='same')])\n",
    "\n",
    "  def call(self, x):\n",
    "    encoded = self.encoder(x)\n",
    "    decoded = self.decoder(encoded)\n",
    "    return decoded\n",
    "\n",
    "autoencoder = Denoise()\n"
   ]
  },
  {
   "cell_type": "code",
   "execution_count": 35,
   "metadata": {},
   "outputs": [
    {
     "ename": "ValueError",
     "evalue": "Exception encountered when calling layer \"denoise_2\" (type Denoise).\n\nInput 0 of layer \"sequential_4\" is incompatible with the layer: expected shape=(None, 28, 28, 1), found shape=(8, 224, 224, 3)\n\nCall arguments received by layer \"denoise_2\" (type Denoise):\n  • x=tf.Tensor(shape=(8, 224, 224, 3), dtype=float32)",
     "output_type": "error",
     "traceback": [
      "\u001b[1;31m---------------------------------------------------------------------------\u001b[0m",
      "\u001b[1;31mValueError\u001b[0m                                Traceback (most recent call last)",
      "\u001b[1;32mc:\\Users\\ankha\\Desktop\\repos\\Goznak-Intro\\task2\\sound_denoising.ipynb Cell 8\u001b[0m in \u001b[0;36m<cell line: 2>\u001b[1;34m()\u001b[0m\n\u001b[0;32m      <a href='vscode-notebook-cell:/c%3A/Users/ankha/Desktop/repos/Goznak-Intro/task2/sound_denoising.ipynb#X20sZmlsZQ%3D%3D?line=0'>1</a>\u001b[0m autoencoder\u001b[39m.\u001b[39mcompile(optimizer\u001b[39m=\u001b[39m\u001b[39m'\u001b[39m\u001b[39madam\u001b[39m\u001b[39m'\u001b[39m, loss\u001b[39m=\u001b[39mlosses\u001b[39m.\u001b[39mMeanSquaredError())\n\u001b[1;32m----> <a href='vscode-notebook-cell:/c%3A/Users/ankha/Desktop/repos/Goznak-Intro/task2/sound_denoising.ipynb#X20sZmlsZQ%3D%3D?line=1'>2</a>\u001b[0m history \u001b[39m=\u001b[39m autoencoder\u001b[39m.\u001b[39;49mfit(traingen,\n\u001b[0;32m      <a href='vscode-notebook-cell:/c%3A/Users/ankha/Desktop/repos/Goznak-Intro/task2/sound_denoising.ipynb#X20sZmlsZQ%3D%3D?line=2'>3</a>\u001b[0m                           epochs\u001b[39m=\u001b[39;49m\u001b[39m10\u001b[39;49m,\n\u001b[0;32m      <a href='vscode-notebook-cell:/c%3A/Users/ankha/Desktop/repos/Goznak-Intro/task2/sound_denoising.ipynb#X20sZmlsZQ%3D%3D?line=3'>4</a>\u001b[0m                           shuffle\u001b[39m=\u001b[39;49m\u001b[39mTrue\u001b[39;49;00m,\n\u001b[0;32m      <a href='vscode-notebook-cell:/c%3A/Users/ankha/Desktop/repos/Goznak-Intro/task2/sound_denoising.ipynb#X20sZmlsZQ%3D%3D?line=4'>5</a>\u001b[0m                           validation_data\u001b[39m=\u001b[39;49mvalgen)\n",
      "File \u001b[1;32mc:\\Users\\ankha\\anaconda3\\envs\\tensorflow\\lib\\site-packages\\keras\\utils\\traceback_utils.py:67\u001b[0m, in \u001b[0;36mfilter_traceback.<locals>.error_handler\u001b[1;34m(*args, **kwargs)\u001b[0m\n\u001b[0;32m     65\u001b[0m \u001b[39mexcept\u001b[39;00m \u001b[39mException\u001b[39;00m \u001b[39mas\u001b[39;00m e:  \u001b[39m# pylint: disable=broad-except\u001b[39;00m\n\u001b[0;32m     66\u001b[0m   filtered_tb \u001b[39m=\u001b[39m _process_traceback_frames(e\u001b[39m.\u001b[39m__traceback__)\n\u001b[1;32m---> 67\u001b[0m   \u001b[39mraise\u001b[39;00m e\u001b[39m.\u001b[39mwith_traceback(filtered_tb) \u001b[39mfrom\u001b[39;00m \u001b[39mNone\u001b[39m\n\u001b[0;32m     68\u001b[0m \u001b[39mfinally\u001b[39;00m:\n\u001b[0;32m     69\u001b[0m   \u001b[39mdel\u001b[39;00m filtered_tb\n",
      "\u001b[1;32mc:\\Users\\ankha\\Desktop\\repos\\Goznak-Intro\\task2\\sound_denoising.ipynb Cell 8\u001b[0m in \u001b[0;36mDenoise.call\u001b[1;34m(self, x)\u001b[0m\n\u001b[0;32m     <a href='vscode-notebook-cell:/c%3A/Users/ankha/Desktop/repos/Goznak-Intro/task2/sound_denoising.ipynb#X20sZmlsZQ%3D%3D?line=13'>14</a>\u001b[0m \u001b[39mdef\u001b[39;00m \u001b[39mcall\u001b[39m(\u001b[39mself\u001b[39m, x):\n\u001b[1;32m---> <a href='vscode-notebook-cell:/c%3A/Users/ankha/Desktop/repos/Goznak-Intro/task2/sound_denoising.ipynb#X20sZmlsZQ%3D%3D?line=14'>15</a>\u001b[0m   encoded \u001b[39m=\u001b[39m \u001b[39mself\u001b[39;49m\u001b[39m.\u001b[39;49mencoder(x)\n\u001b[0;32m     <a href='vscode-notebook-cell:/c%3A/Users/ankha/Desktop/repos/Goznak-Intro/task2/sound_denoising.ipynb#X20sZmlsZQ%3D%3D?line=15'>16</a>\u001b[0m   decoded \u001b[39m=\u001b[39m \u001b[39mself\u001b[39m\u001b[39m.\u001b[39mdecoder(encoded)\n\u001b[0;32m     <a href='vscode-notebook-cell:/c%3A/Users/ankha/Desktop/repos/Goznak-Intro/task2/sound_denoising.ipynb#X20sZmlsZQ%3D%3D?line=16'>17</a>\u001b[0m   \u001b[39mreturn\u001b[39;00m decoded\n",
      "\u001b[1;31mValueError\u001b[0m: Exception encountered when calling layer \"denoise_2\" (type Denoise).\n\nInput 0 of layer \"sequential_4\" is incompatible with the layer: expected shape=(None, 28, 28, 1), found shape=(8, 224, 224, 3)\n\nCall arguments received by layer \"denoise_2\" (type Denoise):\n  • x=tf.Tensor(shape=(8, 224, 224, 3), dtype=float32)"
     ]
    }
   ],
   "source": [
    "autoencoder.compile(optimizer='adam', loss=losses.MeanSquaredError())\n",
    "history = autoencoder.fit(traingen,\n",
    "                          epochs=10,\n",
    "                          shuffle=True,\n",
    "                          validation_data=valgen)\n"
   ]
  },
  {
   "cell_type": "code",
   "execution_count": null,
   "metadata": {},
   "outputs": [],
   "source": []
  }
 ],
 "metadata": {
  "kernelspec": {
   "display_name": "Python 3.8.13 ('tensorflow')",
   "language": "python",
   "name": "python3"
  },
  "language_info": {
   "codemirror_mode": {
    "name": "ipython",
    "version": 3
   },
   "file_extension": ".py",
   "mimetype": "text/x-python",
   "name": "python",
   "nbconvert_exporter": "python",
   "pygments_lexer": "ipython3",
   "version": "3.8.13"
  },
  "orig_nbformat": 4,
  "vscode": {
   "interpreter": {
    "hash": "37be8c2ada5fcf1db1eeb82a2f5ebdcef3c64c503697d019115edff76835e14f"
   }
  }
 },
 "nbformat": 4,
 "nbformat_minor": 2
}
